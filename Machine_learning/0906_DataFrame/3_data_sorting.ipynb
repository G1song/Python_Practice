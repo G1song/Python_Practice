{
 "cells": [
  {
   "cell_type": "code",
   "execution_count": 1,
   "metadata": {},
   "outputs": [],
   "source": [
    "import os\n",
    "import numpy as np\n",
    "import pandas as pd\n",
    "import matplotlib.pyplot as plt\n",
    "import seaborn as sns\n"
   ]
  },
  {
   "cell_type": "code",
   "execution_count": 2,
   "metadata": {},
   "outputs": [],
   "source": [
    "fpath = './dataset'"
   ]
  },
  {
   "cell_type": "code",
   "execution_count": 4,
   "metadata": {},
   "outputs": [
    {
     "name": "stdout",
     "output_type": "stream",
     "text": [
      "    c0  c1  c2  c3  c4\n",
      "r0   1   4   7  10  13\n",
      "r1   2   5   8  11  14\n",
      "r2   3   6   9  12  15\n"
     ]
    }
   ],
   "source": [
    "dict_data = {\n",
    "    \"c0\":np.arange(1, 4),\n",
    "    \"c1\":np.arange(4, 7),\n",
    "    \"c2\":np.arange(7, 10),\n",
    "    \"c3\":np.arange(10, 13),\n",
    "    \"c4\":np.arange(13, 16),\n",
    "}\n",
    "\n",
    "df = pd.DataFrame(dict_data, index = [\"r0\", \"r1\", \"r2\"])\n",
    "print(df)"
   ]
  },
  {
   "cell_type": "code",
   "execution_count": 11,
   "metadata": {},
   "outputs": [
    {
     "name": "stdout",
     "output_type": "stream",
     "text": [
      "df = \n",
      "     c0  c1  c2  c3  c4\n",
      "r2   3   6   9  12  15\n",
      "r1   2   5   8  11  14\n",
      "r0   1   4   7  10  13\n",
      "**************************************************\n",
      "df = \n",
      "     c0  c1  c2  c3  c4\n",
      "r0   1   4   7  10  13\n",
      "r1   2   5   8  11  14\n",
      "r2   3   6   9  12  15\n"
     ]
    }
   ],
   "source": [
    "## index 정렬\n",
    "df.sort_index(ascending = False, inplace = True)\n",
    "print(\"df = \\n\", df)\n",
    "\n",
    "##value \n",
    "print(\"*\"*50)\n",
    "df.sort_values(by = \"c0\", ascending = True, inplace = True)\n",
    "print(\"df = \\n\", df)\n"
   ]
  },
  {
   "cell_type": "code",
   "execution_count": 14,
   "metadata": {},
   "outputs": [
    {
     "name": "stdout",
     "output_type": "stream",
     "text": [
      "   survived  pclass     sex   age  sibsp  parch     fare       won embarked  \\\n",
      "0         0       3    male  22.0      1      0   7.2500   9425.00        S   \n",
      "1         1       1  female  38.0      1      0  71.2833  92668.29        C   \n",
      "2         1       3  female  26.0      0      0   7.9250  10302.50        S   \n",
      "3         1       1  female  35.0      1      0  53.1000  69030.00        S   \n",
      "4         0       3    male  35.0      0      0   8.0500  10465.00        S   \n",
      "\n",
      "   class    who  adult_male deck  embark_town alive  alone  \n",
      "0  Third    man        True  NaN  Southampton    no  False  \n",
      "1  First  woman       False    C    Cherbourg   yes  False  \n",
      "2  Third  woman       False  NaN  Southampton   yes   True  \n",
      "3  First  woman       False    C  Southampton   yes  False  \n",
      "4  Third    man        True  NaN  Southampton    no   True  \n"
     ]
    }
   ],
   "source": [
    "##broadcasting_ipybn 디멘션맞춰주기\n",
    "\n",
    "titanic = sns.load_dataset(\"titanic\")\n",
    "titanic.head()\n",
    "won = titanic[\"fare\"]*1300\n",
    "titanic.insert(7, \"won\", won)\n",
    "print(titanic.head())\n"
   ]
  },
  {
   "cell_type": "code",
   "execution_count": 17,
   "metadata": {},
   "outputs": [
    {
     "name": "stdout",
     "output_type": "stream",
     "text": [
      "      fare       won\n",
      "0   7.2500   9425.00\n",
      "1  71.2833  92668.29\n",
      "2   7.9250  10302.50\n",
      "3  53.1000  69030.00\n",
      "4   8.0500  10465.00\n",
      "**************************************************\n",
      "        fare       won\n",
      "0  1007.2500  10425.00\n",
      "1  1071.2833  93668.29\n",
      "2  1007.9250  11302.50\n",
      "3  1053.1000  70030.00\n",
      "4  1008.0500  11465.00\n"
     ]
    },
    {
     "data": {
      "text/html": [
       "<div>\n",
       "<style scoped>\n",
       "    .dataframe tbody tr th:only-of-type {\n",
       "        vertical-align: middle;\n",
       "    }\n",
       "\n",
       "    .dataframe tbody tr th {\n",
       "        vertical-align: top;\n",
       "    }\n",
       "\n",
       "    .dataframe thead th {\n",
       "        text-align: right;\n",
       "    }\n",
       "</style>\n",
       "<table border=\"1\" class=\"dataframe\">\n",
       "  <thead>\n",
       "    <tr style=\"text-align: right;\">\n",
       "      <th></th>\n",
       "      <th>fare</th>\n",
       "      <th>won</th>\n",
       "    </tr>\n",
       "  </thead>\n",
       "  <tbody>\n",
       "    <tr>\n",
       "      <th>0</th>\n",
       "      <td>1000.0</td>\n",
       "      <td>1000.0</td>\n",
       "    </tr>\n",
       "    <tr>\n",
       "      <th>1</th>\n",
       "      <td>1000.0</td>\n",
       "      <td>1000.0</td>\n",
       "    </tr>\n",
       "    <tr>\n",
       "      <th>2</th>\n",
       "      <td>1000.0</td>\n",
       "      <td>1000.0</td>\n",
       "    </tr>\n",
       "    <tr>\n",
       "      <th>3</th>\n",
       "      <td>1000.0</td>\n",
       "      <td>1000.0</td>\n",
       "    </tr>\n",
       "    <tr>\n",
       "      <th>4</th>\n",
       "      <td>1000.0</td>\n",
       "      <td>1000.0</td>\n",
       "    </tr>\n",
       "    <tr>\n",
       "      <th>...</th>\n",
       "      <td>...</td>\n",
       "      <td>...</td>\n",
       "    </tr>\n",
       "    <tr>\n",
       "      <th>886</th>\n",
       "      <td>1000.0</td>\n",
       "      <td>1000.0</td>\n",
       "    </tr>\n",
       "    <tr>\n",
       "      <th>887</th>\n",
       "      <td>1000.0</td>\n",
       "      <td>1000.0</td>\n",
       "    </tr>\n",
       "    <tr>\n",
       "      <th>888</th>\n",
       "      <td>1000.0</td>\n",
       "      <td>1000.0</td>\n",
       "    </tr>\n",
       "    <tr>\n",
       "      <th>889</th>\n",
       "      <td>1000.0</td>\n",
       "      <td>1000.0</td>\n",
       "    </tr>\n",
       "    <tr>\n",
       "      <th>890</th>\n",
       "      <td>1000.0</td>\n",
       "      <td>1000.0</td>\n",
       "    </tr>\n",
       "  </tbody>\n",
       "</table>\n",
       "<p>891 rows × 2 columns</p>\n",
       "</div>"
      ],
      "text/plain": [
       "       fare     won\n",
       "0    1000.0  1000.0\n",
       "1    1000.0  1000.0\n",
       "2    1000.0  1000.0\n",
       "3    1000.0  1000.0\n",
       "4    1000.0  1000.0\n",
       "..      ...     ...\n",
       "886  1000.0  1000.0\n",
       "887  1000.0  1000.0\n",
       "888  1000.0  1000.0\n",
       "889  1000.0  1000.0\n",
       "890  1000.0  1000.0\n",
       "\n",
       "[891 rows x 2 columns]"
      ]
     },
     "execution_count": 17,
     "metadata": {},
     "output_type": "execute_result"
    }
   ],
   "source": [
    "titanic.head()\n",
    "new_df = titanic.loc[:, \"fare\":\"won\"]\n",
    "print(new_df.head())\n",
    "print(\"*\"*50)\n",
    "add_df = new_df + 1000\n",
    "print(add_df.head())\n",
    "\n",
    "add_df - new_df\n"
   ]
  },
  {
   "cell_type": "code",
   "execution_count": 31,
   "metadata": {},
   "outputs": [
    {
     "name": "stdout",
     "output_type": "stream",
     "text": [
      "    group  id    time    hz0.04    hz0.08     hz0.1    hz0.16    hz0.32  \\\n",
      "0       1   1     Pre  0.213840  0.717955  0.848727  0.850790  0.802738   \n",
      "1       1   2     Pre  0.345725  0.795440  0.781473  0.924972  0.801245   \n",
      "2       1   3     Pre  0.376285  0.799327  0.781350  0.777773  0.868007   \n",
      "3       1   4     Pre  0.451440  0.771083  0.808645  0.787825  0.839985   \n",
      "4       1   5     Pre  0.287360  0.825547  0.831303  0.818332  0.817320   \n",
      "..    ...  ..     ...       ...       ...       ...       ...       ...   \n",
      "59      2  12  Post14  0.079660  0.237193  0.471418  0.474830  0.585082   \n",
      "60      2  13  Post14  0.085117  0.387700  0.403857  0.583710  0.665262   \n",
      "61      2  14  Post14  0.058188  0.399475  0.467535  0.648505  0.657350   \n",
      "62      2  15  Post14  0.098390  0.357222  0.478880  0.456372  0.536233   \n",
      "63      2  16  Post14  0.117395  0.449813  0.472043  0.571655  0.690753   \n",
      "\n",
      "      hz0.64       hz1  \n",
      "0   0.808393  0.738967  \n",
      "1   0.803880  0.781420  \n",
      "2   0.868853  0.754252  \n",
      "3   0.832352  0.818722  \n",
      "4   0.816153  0.836298  \n",
      "..       ...       ...  \n",
      "59  0.660957  0.623650  \n",
      "60  0.690318  0.652092  \n",
      "61  0.660045  0.586642  \n",
      "62  0.629415  0.627395  \n",
      "63  0.678215  0.658850  \n",
      "\n",
      "[64 rows x 10 columns]\n",
      "    group    time    hz0.04    hz0.08     hz0.1    hz0.16    hz0.32    hz0.64  \\\n",
      "id                                                                              \n",
      "1       1     Pre  0.213840  0.717955  0.848727  0.850790  0.802738  0.808393   \n",
      "2       1     Pre  0.345725  0.795440  0.781473  0.924972  0.801245  0.803880   \n",
      "3       1     Pre  0.376285  0.799327  0.781350  0.777773  0.868007  0.868853   \n",
      "4       1     Pre  0.451440  0.771083  0.808645  0.787825  0.839985  0.832352   \n",
      "5       1     Pre  0.287360  0.825547  0.831303  0.818332  0.817320  0.816153   \n",
      "..    ...     ...       ...       ...       ...       ...       ...       ...   \n",
      "12      2  Post14  0.079660  0.237193  0.471418  0.474830  0.585082  0.660957   \n",
      "13      2  Post14  0.085117  0.387700  0.403857  0.583710  0.665262  0.690318   \n",
      "14      2  Post14  0.058188  0.399475  0.467535  0.648505  0.657350  0.660045   \n",
      "15      2  Post14  0.098390  0.357222  0.478880  0.456372  0.536233  0.629415   \n",
      "16      2  Post14  0.117395  0.449813  0.472043  0.571655  0.690753  0.678215   \n",
      "\n",
      "         hz1  \n",
      "id            \n",
      "1   0.738967  \n",
      "2   0.781420  \n",
      "3   0.754252  \n",
      "4   0.818722  \n",
      "5   0.836298  \n",
      "..       ...  \n",
      "12  0.623650  \n",
      "13  0.652092  \n",
      "14  0.586642  \n",
      "15  0.627395  \n",
      "16  0.658850  \n",
      "\n",
      "[64 rows x 9 columns]\n",
      "    id  group    time    hz0.04    hz0.08     hz0.1    hz0.16    hz0.32  \\\n",
      "0    1      1     Pre  0.213840  0.717955  0.848727  0.850790  0.802738   \n",
      "1    2      1     Pre  0.345725  0.795440  0.781473  0.924972  0.801245   \n",
      "2    3      1     Pre  0.376285  0.799327  0.781350  0.777773  0.868007   \n",
      "3    4      1     Pre  0.451440  0.771083  0.808645  0.787825  0.839985   \n",
      "4    5      1     Pre  0.287360  0.825547  0.831303  0.818332  0.817320   \n",
      "..  ..    ...     ...       ...       ...       ...       ...       ...   \n",
      "59  12      2  Post14  0.079660  0.237193  0.471418  0.474830  0.585082   \n",
      "60  13      2  Post14  0.085117  0.387700  0.403857  0.583710  0.665262   \n",
      "61  14      2  Post14  0.058188  0.399475  0.467535  0.648505  0.657350   \n",
      "62  15      2  Post14  0.098390  0.357222  0.478880  0.456372  0.536233   \n",
      "63  16      2  Post14  0.117395  0.449813  0.472043  0.571655  0.690753   \n",
      "\n",
      "      hz0.64       hz1  \n",
      "0   0.808393  0.738967  \n",
      "1   0.803880  0.781420  \n",
      "2   0.868853  0.754252  \n",
      "3   0.832352  0.818722  \n",
      "4   0.816153  0.836298  \n",
      "..       ...       ...  \n",
      "59  0.660957  0.623650  \n",
      "60  0.690318  0.652092  \n",
      "61  0.660045  0.586642  \n",
      "62  0.629415  0.627395  \n",
      "63  0.678215  0.658850  \n",
      "\n",
      "[64 rows x 10 columns]\n"
     ]
    }
   ],
   "source": [
    "fname = \"vor_r.xlsx\"\n",
    "vor = pd.read_excel(os.path.join(fpath, fname))\n",
    "print(vor)\n",
    "\n",
    "vor.set_index(\"id\", inplace=True)\n",
    "print(vor)\n",
    "vor.reset_index(inplace=True) \n",
    "print(vor)\n",
    "\n",
    "mean_column = vor.loc[:, \"hz0.04\":].mean(axis = 1) #axis = 1이어야 행별로계산\n",
    "mean_column\n",
    "\n",
    "vor.insert(3, \"mean\", mean_column)\n",
    "vor.head()\n",
    "vor.sort_values(by=\"mean\", ascending=False, inplace = True)\n",
    "vor.iloc[:10, :4]\n",
    "\n",
    "\n",
    "vor_df10 = vor.iloc[:10, :4]"
   ]
  },
  {
   "cell_type": "code",
   "execution_count": 44,
   "metadata": {},
   "outputs": [
    {
     "data": {
      "text/html": [
       "<div>\n",
       "<style scoped>\n",
       "    .dataframe tbody tr th:only-of-type {\n",
       "        vertical-align: middle;\n",
       "    }\n",
       "\n",
       "    .dataframe tbody tr th {\n",
       "        vertical-align: top;\n",
       "    }\n",
       "\n",
       "    .dataframe thead th {\n",
       "        text-align: right;\n",
       "    }\n",
       "</style>\n",
       "<table border=\"1\" class=\"dataframe\">\n",
       "  <thead>\n",
       "    <tr style=\"text-align: right;\">\n",
       "      <th></th>\n",
       "      <th>id</th>\n",
       "      <th>group</th>\n",
       "      <th>time</th>\n",
       "      <th>mean</th>\n",
       "    </tr>\n",
       "  </thead>\n",
       "  <tbody>\n",
       "    <tr>\n",
       "      <th>13</th>\n",
       "      <td>14</td>\n",
       "      <td>2</td>\n",
       "      <td>Pre</td>\n",
       "      <td>0.807488</td>\n",
       "    </tr>\n",
       "    <tr>\n",
       "      <th>7</th>\n",
       "      <td>8</td>\n",
       "      <td>1</td>\n",
       "      <td>Pre</td>\n",
       "      <td>0.805965</td>\n",
       "    </tr>\n",
       "    <tr>\n",
       "      <th>6</th>\n",
       "      <td>7</td>\n",
       "      <td>1</td>\n",
       "      <td>Pre</td>\n",
       "      <td>0.798594</td>\n",
       "    </tr>\n",
       "    <tr>\n",
       "      <th>8</th>\n",
       "      <td>9</td>\n",
       "      <td>1</td>\n",
       "      <td>Pre</td>\n",
       "      <td>0.794495</td>\n",
       "    </tr>\n",
       "    <tr>\n",
       "      <th>12</th>\n",
       "      <td>13</td>\n",
       "      <td>2</td>\n",
       "      <td>Pre</td>\n",
       "      <td>0.780265</td>\n",
       "    </tr>\n",
       "    <tr>\n",
       "      <th>11</th>\n",
       "      <td>12</td>\n",
       "      <td>2</td>\n",
       "      <td>post</td>\n",
       "      <td>0.777636</td>\n",
       "    </tr>\n",
       "    <tr>\n",
       "      <th>5</th>\n",
       "      <td>6</td>\n",
       "      <td>1</td>\n",
       "      <td>post</td>\n",
       "      <td>0.775674</td>\n",
       "    </tr>\n",
       "    <tr>\n",
       "      <th>3</th>\n",
       "      <td>4</td>\n",
       "      <td>1</td>\n",
       "      <td>post</td>\n",
       "      <td>0.758579</td>\n",
       "    </tr>\n",
       "    <tr>\n",
       "      <th>14</th>\n",
       "      <td>15</td>\n",
       "      <td>2</td>\n",
       "      <td>post</td>\n",
       "      <td>0.758175</td>\n",
       "    </tr>\n",
       "    <tr>\n",
       "      <th>15</th>\n",
       "      <td>16</td>\n",
       "      <td>2</td>\n",
       "      <td>post</td>\n",
       "      <td>0.753647</td>\n",
       "    </tr>\n",
       "  </tbody>\n",
       "</table>\n",
       "</div>"
      ],
      "text/plain": [
       "    id  group  time      mean\n",
       "13  14      2   Pre  0.807488\n",
       "7    8      1   Pre  0.805965\n",
       "6    7      1   Pre  0.798594\n",
       "8    9      1   Pre  0.794495\n",
       "12  13      2   Pre  0.780265\n",
       "11  12      2  post  0.777636\n",
       "5    6      1  post  0.775674\n",
       "3    4      1  post  0.758579\n",
       "14  15      2  post  0.758175\n",
       "15  16      2  post  0.753647"
      ]
     },
     "execution_count": 44,
     "metadata": {},
     "output_type": "execute_result"
    }
   ],
   "source": [
    "##filter \n",
    "vor_df10 = vor.iloc[:10, :4]\n",
    "vor_df10.iloc[5:, 2] = \"post\"\n",
    "vor_df10\n"
   ]
  },
  {
   "cell_type": "code",
   "execution_count": 47,
   "metadata": {},
   "outputs": [
    {
     "name": "stdout",
     "output_type": "stream",
     "text": [
      "13     True\n",
      "7      True\n",
      "6      True\n",
      "8      True\n",
      "12     True\n",
      "11    False\n",
      "5     False\n",
      "3     False\n",
      "14    False\n",
      "15    False\n",
      "Name: time, dtype: bool\n",
      "13     True\n",
      "7      True\n",
      "6      True\n",
      "8      True\n",
      "12     True\n",
      "11     True\n",
      "5      True\n",
      "3     False\n",
      "14    False\n",
      "15    False\n",
      "Name: mean, dtype: bool\n",
      "   id  group time      mean\n",
      "7   8      1  Pre  0.805965\n",
      "6   7      1  Pre  0.798594\n",
      "8   9      1  Pre  0.794495\n",
      "**************************************************\n",
      "    id  group  time      mean\n",
      "13  14      2   Pre  0.807488\n",
      "7    8      1   Pre  0.805965\n",
      "6    7      1   Pre  0.798594\n",
      "8    9      1   Pre  0.794495\n",
      "12  13      2   Pre  0.780265\n",
      "11  12      2  post  0.777636\n",
      "5    6      1  post  0.775674\n"
     ]
    }
   ],
   "source": [
    "#boolean 을 인덱스로 넣어주면 True 인것만 보여줌 \n",
    "\n",
    "idx1 = vor_df10.loc[:, \"time\"] == \"Pre\"\n",
    "print(idx1)\n",
    "\n",
    "idx2 = vor_df10.loc[:, \"mean\"] > 0.77\n",
    "print(idx2)\n",
    "\n",
    "\n",
    "print(vor_df10[(idx1) & (idx2) & (vor_df10.loc[:, \"group\"]==1)]) #idx1, idx2 둘 다 true 를 만족하는 것만! \n",
    "print(\"*\"*50)\n",
    "print(vor_df10[(idx1) | (idx2)]) #or "
   ]
  },
  {
   "cell_type": "code",
   "execution_count": 48,
   "metadata": {},
   "outputs": [
    {
     "name": "stdout",
     "output_type": "stream",
     "text": [
      "tips HEAD = \n",
      "    total_bill   tip     sex smoker  day    time  size\n",
      "0       16.99  1.01  Female     No  Sun  Dinner     2\n",
      "1       10.34  1.66    Male     No  Sun  Dinner     3\n",
      "2       21.01  3.50    Male     No  Sun  Dinner     3\n",
      "3       23.68  3.31    Male     No  Sun  Dinner     2\n",
      "4       24.59  3.61  Female     No  Sun  Dinner     4\n"
     ]
    }
   ],
   "source": [
    "tips = sns.load_dataset('tips')\n",
    "print(\"tips HEAD = \\n\", tips.head())\n"
   ]
  },
  {
   "cell_type": "code",
   "execution_count": 49,
   "metadata": {},
   "outputs": [
    {
     "name": "stdout",
     "output_type": "stream",
     "text": [
      "correalation coefficient(상관계수) = \n",
      "\n",
      "            total_bill       tip\n",
      "total_bill    1.000000  0.675734\n",
      "tip           0.675734  1.000000\n"
     ]
    },
    {
     "data": {
      "text/plain": [
       "Text(0, 0.5, 'tip($)')"
      ]
     },
     "execution_count": 49,
     "metadata": {},
     "output_type": "execute_result"
    },
    {
     "data": {
      "image/png": "[encoded data removed]",
      "text/plain": [
       "<Figure size 640x480 with 1 Axes>"
      ]
     },
     "metadata": {},
     "output_type": "display_data"
    }
   ],
   "source": [
    "#correlation coefficient \n",
    "\n",
    "print(\"correalation coefficient(상관계수) = \\n\")\n",
    "print(tips[[\"total_bill\", \"tip\"]].corr())\n",
    "\n",
    "plt.scatter(tips[\"total_bill\"], tips[\"tip\"]) #반드시 x축에원인변수. y는결과변수\n",
    "# weight , mpg 자리 바뀌면 안됨. 무게가 원인변수고 연비는 결과니까. \n",
    "plt.title(\"Total_bill vs Tip\")\n",
    "plt.xlabel(\"total_bill($)\")\n",
    "plt.ylabel(\"tip($)\")"
   ]
  },
  {
   "cell_type": "code",
   "execution_count": 1,
   "metadata": {},
   "outputs": [
    {
     "ename": "NameError",
     "evalue": "name 'sns' is not defined",
     "output_type": "error",
     "traceback": [
      "\u001b[1;31m---------------------------------------------------------------------------\u001b[0m",
      "\u001b[1;31mNameError\u001b[0m                                 Traceback (most recent call last)",
      "Cell \u001b[1;32mIn[1], line 4\u001b[0m\n\u001b[0;32m      1\u001b[0m \u001b[38;5;66;03m#mpg mpg -> kmh =\u001b[39;00m\n\u001b[0;32m      2\u001b[0m \u001b[38;5;66;03m# Broadcasting  \u001b[39;00m\n\u001b[1;32m----> 4\u001b[0m mpg \u001b[38;5;241m=\u001b[39m \u001b[43msns\u001b[49m\u001b[38;5;241m.\u001b[39mload_dataset(\u001b[38;5;124m'\u001b[39m\u001b[38;5;124mmpg\u001b[39m\u001b[38;5;124m'\u001b[39m)\n\u001b[0;32m      5\u001b[0m \u001b[38;5;28mprint\u001b[39m(mpg)\n\u001b[0;32m      6\u001b[0m \u001b[38;5;28mprint\u001b[39m(\u001b[38;5;124m\"\u001b[39m\u001b[38;5;124mMPG HEAD = \u001b[39m\u001b[38;5;130;01m\\n\u001b[39;00m\u001b[38;5;124m\"\u001b[39m, mpg\u001b[38;5;241m.\u001b[39mhead())\n",
      "\u001b[1;31mNameError\u001b[0m: name 'sns' is not defined"
     ]
    }
   ],
   "source": [
    "#mpg mpg -> kmh =\n",
    "# Broadcasting  \n",
    "\n",
    "mpg = sns.load_dataset('mpg')\n",
    "print(mpg)\n",
    "print(\"MPG HEAD = \\n\", mpg.head())\n",
    "\n",
    "print(\"❤️mpg =\", mpg.loc[:, \"mpg\"])\n",
    "add_kml = mpg[\"mpg\"]*0.425\n",
    "mpg.insert(1, \"kml\", add_kml)\n",
    "print(mpg)\n",
    "\n",
    "\n",
    "\n",
    "mpg[\"mpg\"] = df[\"kml\"] * 0.425\n",
    "\n"
   ]
  },
  {
   "cell_type": "code",
   "execution_count": 66,
   "metadata": {},
   "outputs": [
    {
     "name": "stdout",
     "output_type": "stream",
     "text": [
      "['anagrams', 'anscombe', 'attention', 'brain_networks', 'car_crashes', 'diamonds', 'dots', 'dowjones', 'exercise', 'flights', 'fmri', 'geyser', 'glue', 'healthexp', 'iris', 'mpg', 'penguins', 'planets', 'seaice', 'taxis', 'tips', 'titanic']\n"
     ]
    }
   ],
   "source": [
    "#USArrest = sns.load_dataset('USArrests')\n",
    "#print(USArrest)\n",
    "USArrest1 = sns.get_dataset_names()\n",
    "print(USArrest1)\n"
   ]
  },
  {
   "cell_type": "code",
   "execution_count": null,
   "metadata": {},
   "outputs": [],
   "source": []
  }
 ],
 "metadata": {
  "kernelspec": {
   "display_name": "Python 3",
   "language": "python",
   "name": "python3"
  },
  "language_info": {
   "codemirror_mode": {
    "name": "ipython",
    "version": 3
   },
   "file_extension": ".py",
   "mimetype": "text/x-python",
   "name": "python",
   "nbconvert_exporter": "python",
   "pygments_lexer": "ipython3",
   "version": "3.11.9"
  }
 },
 "nbformat": 4,
 "nbformat_minor": 2
}
