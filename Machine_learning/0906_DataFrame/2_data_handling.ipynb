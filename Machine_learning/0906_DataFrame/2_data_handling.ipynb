{
 "cells": [
  {
   "cell_type": "code",
   "execution_count": 19,
   "metadata": {},
   "outputs": [],
   "source": [
    "import os\n",
    "import numpy as np\n",
    "import pandas as pd\n",
    "import matplotlib.pyplot as plt\n",
    "import seaborn as sns\n",
    "\n",
    "fpath = '../dataset'\n"
   ]
  },
  {
   "cell_type": "code",
   "execution_count": 5,
   "metadata": {},
   "outputs": [
    {
     "name": "stdout",
     "output_type": "stream",
     "text": [
      "exam_df = \n",
      " [[90, 50, 98, '남', True], [80, 80, 89, '남', False], [90, 100, 95, '여', True], [60, 90, 80, '여', False]]\n",
      "   수학   코딩  영어 성별     합격\n",
      "0  90   50  98  남   True\n",
      "1  80   80  89  남  False\n",
      "2  90  100  95  여   True\n",
      "3  60   90  80  여  False\n",
      "**************************************************\n"
     ]
    }
   ],
   "source": [
    "exam = [[90, 50, 98, \"남\", True],\n",
    "        [80, 80, 89, \"남\", False],\n",
    "        [90, 100, 95, \"여\", True],\n",
    "        [60, 90, 80, \"여\", False]\n",
    "        ]\n",
    "print(\"exam_df = \\n\", exam)\n",
    "exam_df = pd.DataFrame(exam,\n",
    "columns = [\"수학\", \"코딩\", \"영어\", \"성별\", \"합격\"])\n",
    "print(exam_df)\n",
    "\n",
    "print('*'*50)\n"
   ]
  },
  {
   "cell_type": "code",
   "execution_count": 8,
   "metadata": {},
   "outputs": [
    {
     "name": "stdout",
     "output_type": "stream",
     "text": [
      "   hdz  chestpain  cholesterol  sysbp\n",
      "0  yes       True          208    160\n",
      "1   no      False          282    140\n",
      "2   no      False          235    188\n",
      "3   no       True          277    162\n",
      "4  yes      False          280    122\n"
     ]
    }
   ],
   "source": [
    "ill = {\"hdz\":['yes', 'no', 'no', 'no', 'yes'],\n",
    "\"chestpain\":[True, False, False, True, False],\n",
    "\"cholesterol\": [208, 282, 235, 277, 280],\n",
    "\"sysbp\": [160, 140, 188, 162, 122]}\n",
    "\n",
    "ill_df = pd.DataFrame(ill)\n",
    "print(ill_df)"
   ]
  },
  {
   "cell_type": "code",
   "execution_count": 15,
   "metadata": {},
   "outputs": [
    {
     "name": "stdout",
     "output_type": "stream",
     "text": [
      "    c0  c1  c2  c3  c4\n",
      "r0   1   4   7  10  13\n",
      "r1   2   5   8  11  14\n",
      "r2   3   6   9  12  15\n",
      "**************************************************\n",
      "    c1  c2  c3  c4\n",
      "c0                \n",
      "1    4   7  10  13\n",
      "2    5   8  11  14\n",
      "3    6   9  12  15\n",
      "**************************************************\n",
      "   c0  c1  c2  c3  c4\n",
      "0   1   4   7  10  13\n",
      "1   2   5   8  11  14\n",
      "2   3   6   9  12  15\n"
     ]
    }
   ],
   "source": [
    "dict_data = {\n",
    "    \"c0\":np.arange(1, 4),\n",
    "    \"c1\":np.arange(4, 7),\n",
    "    \"c2\":np.arange(7, 10),\n",
    "    \"c3\":np.arange(10, 13),\n",
    "    \"c4\":np.arange(13, 16),\n",
    "}\n",
    "\n",
    "df = pd.DataFrame(dict_data, index = [\"r0\", \"r1\", \"r2\"])\n",
    "print(df)\n",
    "\n",
    "print(\"*\"*50)\n",
    "df.set_index(\"c0\", inplace=True)\n",
    "print(df)\n",
    "\n",
    "print(\"*\"*50)\n",
    "df.reset_index(inplace=True)\n",
    "print(df)\n"
   ]
  },
  {
   "cell_type": "code",
   "execution_count": 28,
   "metadata": {},
   "outputs": [
    {
     "name": "stdout",
     "output_type": "stream",
     "text": [
      "    group  id    time    hz0.04    hz0.08     hz0.1    hz0.16    hz0.32  \\\n",
      "0       1   1     Pre  0.213840  0.717955  0.848727  0.850790  0.802738   \n",
      "1       1   2     Pre  0.345725  0.795440  0.781473  0.924972  0.801245   \n",
      "2       1   3     Pre  0.376285  0.799327  0.781350  0.777773  0.868007   \n",
      "3       1   4     Pre  0.451440  0.771083  0.808645  0.787825  0.839985   \n",
      "4       1   5     Pre  0.287360  0.825547  0.831303  0.818332  0.817320   \n",
      "..    ...  ..     ...       ...       ...       ...       ...       ...   \n",
      "59      2  12  Post14  0.079660  0.237193  0.471418  0.474830  0.585082   \n",
      "60      2  13  Post14  0.085117  0.387700  0.403857  0.583710  0.665262   \n",
      "61      2  14  Post14  0.058188  0.399475  0.467535  0.648505  0.657350   \n",
      "62      2  15  Post14  0.098390  0.357222  0.478880  0.456372  0.536233   \n",
      "63      2  16  Post14  0.117395  0.449813  0.472043  0.571655  0.690753   \n",
      "\n",
      "      hz0.64       hz1  \n",
      "0   0.808393  0.738967  \n",
      "1   0.803880  0.781420  \n",
      "2   0.868853  0.754252  \n",
      "3   0.832352  0.818722  \n",
      "4   0.816153  0.836298  \n",
      "..       ...       ...  \n",
      "59  0.660957  0.623650  \n",
      "60  0.690318  0.652092  \n",
      "61  0.660045  0.586642  \n",
      "62  0.629415  0.627395  \n",
      "63  0.678215  0.658850  \n",
      "\n",
      "[64 rows x 10 columns]\n",
      "    group    time    hz0.04    hz0.08     hz0.1    hz0.16    hz0.32    hz0.64  \\\n",
      "id                                                                              \n",
      "1       1     Pre  0.213840  0.717955  0.848727  0.850790  0.802738  0.808393   \n",
      "2       1     Pre  0.345725  0.795440  0.781473  0.924972  0.801245  0.803880   \n",
      "3       1     Pre  0.376285  0.799327  0.781350  0.777773  0.868007  0.868853   \n",
      "4       1     Pre  0.451440  0.771083  0.808645  0.787825  0.839985  0.832352   \n",
      "5       1     Pre  0.287360  0.825547  0.831303  0.818332  0.817320  0.816153   \n",
      "..    ...     ...       ...       ...       ...       ...       ...       ...   \n",
      "12      2  Post14  0.079660  0.237193  0.471418  0.474830  0.585082  0.660957   \n",
      "13      2  Post14  0.085117  0.387700  0.403857  0.583710  0.665262  0.690318   \n",
      "14      2  Post14  0.058188  0.399475  0.467535  0.648505  0.657350  0.660045   \n",
      "15      2  Post14  0.098390  0.357222  0.478880  0.456372  0.536233  0.629415   \n",
      "16      2  Post14  0.117395  0.449813  0.472043  0.571655  0.690753  0.678215   \n",
      "\n",
      "         hz1  \n",
      "id            \n",
      "1   0.738967  \n",
      "2   0.781420  \n",
      "3   0.754252  \n",
      "4   0.818722  \n",
      "5   0.836298  \n",
      "..       ...  \n",
      "12  0.623650  \n",
      "13  0.652092  \n",
      "14  0.586642  \n",
      "15  0.627395  \n",
      "16  0.658850  \n",
      "\n",
      "[64 rows x 9 columns]\n",
      "    id  group    time    hz0.04    hz0.08     hz0.1    hz0.16    hz0.32  \\\n",
      "0    1      1     Pre  0.213840  0.717955  0.848727  0.850790  0.802738   \n",
      "1    2      1     Pre  0.345725  0.795440  0.781473  0.924972  0.801245   \n",
      "2    3      1     Pre  0.376285  0.799327  0.781350  0.777773  0.868007   \n",
      "3    4      1     Pre  0.451440  0.771083  0.808645  0.787825  0.839985   \n",
      "4    5      1     Pre  0.287360  0.825547  0.831303  0.818332  0.817320   \n",
      "..  ..    ...     ...       ...       ...       ...       ...       ...   \n",
      "59  12      2  Post14  0.079660  0.237193  0.471418  0.474830  0.585082   \n",
      "60  13      2  Post14  0.085117  0.387700  0.403857  0.583710  0.665262   \n",
      "61  14      2  Post14  0.058188  0.399475  0.467535  0.648505  0.657350   \n",
      "62  15      2  Post14  0.098390  0.357222  0.478880  0.456372  0.536233   \n",
      "63  16      2  Post14  0.117395  0.449813  0.472043  0.571655  0.690753   \n",
      "\n",
      "      hz0.64       hz1  \n",
      "0   0.808393  0.738967  \n",
      "1   0.803880  0.781420  \n",
      "2   0.868853  0.754252  \n",
      "3   0.832352  0.818722  \n",
      "4   0.816153  0.836298  \n",
      "..       ...       ...  \n",
      "59  0.660957  0.623650  \n",
      "60  0.690318  0.652092  \n",
      "61  0.660045  0.586642  \n",
      "62  0.629415  0.627395  \n",
      "63  0.678215  0.658850  \n",
      "\n",
      "[64 rows x 10 columns]\n"
     ]
    }
   ],
   "source": [
    "fname = \"vor_r.xlsx\"\n",
    "vor = pd.read_excel(os.path.join(fpath, fname))\n",
    "print(vor)\n",
    "\n",
    "vor.set_index(\"id\", inplace=True)\n",
    "print(vor)\n",
    "vor.reset_index(inplace=True) #inplace 를 안쓰면 저장이 안됨. \n",
    "print(vor)"
   ]
  },
  {
   "cell_type": "code",
   "execution_count": 27,
   "metadata": {},
   "outputs": [
    {
     "name": "stdout",
     "output_type": "stream",
     "text": [
      "../dataset\n",
      "vor_r.xlsx\n"
     ]
    }
   ],
   "source": [
    "print(fpath)\n",
    "print(fname)\n",
    "\n",
    "vor.set_i\n",
    "\n"
   ]
  },
  {
   "cell_type": "code",
   "execution_count": null,
   "metadata": {},
   "outputs": [],
   "source": []
  }
 ],
 "metadata": {
  "kernelspec": {
   "display_name": "Python 3",
   "language": "python",
   "name": "python3"
  },
  "language_info": {
   "codemirror_mode": {
    "name": "ipython",
    "version": 3
   },
   "file_extension": ".py",
   "mimetype": "text/x-python",
   "name": "python",
   "nbconvert_exporter": "python",
   "pygments_lexer": "ipython3",
   "version": "3.11.9"
  }
 },
 "nbformat": 4,
 "nbformat_minor": 2
}
