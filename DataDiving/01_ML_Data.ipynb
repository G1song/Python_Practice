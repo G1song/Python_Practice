{
 "cells": [
  {
   "cell_type": "code",
   "execution_count": 16,
   "metadata": {},
   "outputs": [],
   "source": [
    "import pandas as pd"
   ]
  },
  {
   "cell_type": "code",
   "execution_count": 1,
   "metadata": {},
   "outputs": [
    {
     "name": "stdout",
     "output_type": "stream",
     "text": [
      "hello\n"
     ]
    }
   ],
   "source": [
    "print('hello')"
   ]
  },
  {
   "cell_type": "code",
   "execution_count": 6,
   "metadata": {},
   "outputs": [
    {
     "data": {
      "text/plain": [
       "1"
      ]
     },
     "execution_count": 6,
     "metadata": {},
     "output_type": "execute_result"
    }
   ],
   "source": [
    "num = [0,1,2,3,4,5]\n",
    "num[0]\n",
    "num[1]"
   ]
  },
  {
   "cell_type": "code",
   "execution_count": 7,
   "metadata": {},
   "outputs": [
    {
     "name": "stdout",
     "output_type": "stream",
     "text": [
      "3000\n"
     ]
    }
   ],
   "source": [
    "list2 = ['i', 'love', 'you', 3000]\n",
    "print(list2[3])"
   ]
  },
  {
   "cell_type": "code",
   "execution_count": 8,
   "metadata": {},
   "outputs": [
    {
     "name": "stdout",
     "output_type": "stream",
     "text": [
      "{'a': '휴마인', 'b': '판다스', 'c': '수업'}\n"
     ]
    }
   ],
   "source": [
    "dict_1 = {'a':'휴마인', 'b':'판다스', 'c':'수업'}\n",
    "print(dict_1)"
   ]
  },
  {
   "cell_type": "code",
   "execution_count": 9,
   "metadata": {},
   "outputs": [
    {
     "data": {
      "text/plain": [
       "'수업'"
      ]
     },
     "execution_count": 9,
     "metadata": {},
     "output_type": "execute_result"
    }
   ],
   "source": [
    "dict_1['c']"
   ]
  },
  {
   "cell_type": "code",
   "execution_count": 10,
   "metadata": {},
   "outputs": [
    {
     "name": "stdout",
     "output_type": "stream",
     "text": [
      "a\n",
      "b\n",
      "c\n"
     ]
    }
   ],
   "source": [
    "for i in dict_1.keys():\n",
    "    print(i)"
   ]
  },
  {
   "cell_type": "code",
   "execution_count": 11,
   "metadata": {},
   "outputs": [
    {
     "name": "stdout",
     "output_type": "stream",
     "text": [
      "['a', 'b', 'c']\n"
     ]
    }
   ],
   "source": [
    "list_1 = list(dict_1.keys())\n",
    "print(list_1)"
   ]
  },
  {
   "cell_type": "code",
   "execution_count": 12,
   "metadata": {},
   "outputs": [
    {
     "data": {
      "text/plain": [
       "dict_values(['휴마인', '판다스', '수업'])"
      ]
     },
     "execution_count": 12,
     "metadata": {},
     "output_type": "execute_result"
    }
   ],
   "source": [
    "dict_1.values()"
   ]
  },
  {
   "cell_type": "code",
   "execution_count": 13,
   "metadata": {},
   "outputs": [
    {
     "data": {
      "text/plain": [
       "dict_items([('a', '휴마인'), ('b', '판다스'), ('c', '수업')])"
      ]
     },
     "execution_count": 13,
     "metadata": {},
     "output_type": "execute_result"
    }
   ],
   "source": [
    "dict_1.items() #키와밸류가 튜플세트로 출력"
   ]
  },
  {
   "cell_type": "code",
   "execution_count": 14,
   "metadata": {},
   "outputs": [
    {
     "data": {
      "text/plain": [
       "'jiwon'"
      ]
     },
     "execution_count": 14,
     "metadata": {},
     "output_type": "execute_result"
    }
   ],
   "source": [
    "dict_mine = {\n",
    "    'first name' : 'jiwon',\n",
    "    'last name' : 'Song',\n",
    "    'sex' : 'spectrum',\n",
    "    'age' : 23\n",
    "}\n",
    "dict_mine['first name']"
   ]
  },
  {
   "cell_type": "code",
   "execution_count": 17,
   "metadata": {},
   "outputs": [
    {
     "name": "stdout",
     "output_type": "stream",
     "text": [
      "eggs       30\n",
      "apples      6\n",
      "milk      yes\n",
      "bread      no\n",
      "dtype: object\n"
     ]
    }
   ],
   "source": [
    "groceries = pd.Series(index = ['eggs', 'apples', 'milk', 'bread'], data = [30, 6, 'yes', 'no'])\n",
    "print(groceries)"
   ]
  },
  {
   "cell_type": "code",
   "execution_count": 18,
   "metadata": {},
   "outputs": [
    {
     "name": "stdout",
     "output_type": "stream",
     "text": [
      "값 [30 6 'yes' 'no']\n",
      "인덱스 Index(['eggs', 'apples', 'milk', 'bread'], dtype='object')\n"
     ]
    }
   ],
   "source": [
    "print(\"값\", groceries.values)\n",
    "print(\"인덱스\", groceries.index)"
   ]
  },
  {
   "cell_type": "code",
   "execution_count": 24,
   "metadata": {},
   "outputs": [
    {
     "name": "stdout",
     "output_type": "stream",
     "text": [
      "math                      sesac\n",
      "review                    check\n",
      "machine_learning    data_diving\n",
      "dtype: object\n"
     ]
    }
   ],
   "source": [
    "Today_todo = pd.Series(index = ['math', 'review', 'machine_learning'], data = ['sesac', 'check', 'data_diving'])\n",
    "print(Today_todo)"
   ]
  },
  {
   "cell_type": "code",
   "execution_count": 25,
   "metadata": {},
   "outputs": [
    {
     "name": "stdout",
     "output_type": "stream",
     "text": [
      "값 ['sesac' 'check' 'data_diving']\n",
      "인덱스 Index(['math', 'review', 'machine_learning'], dtype='object')\n"
     ]
    }
   ],
   "source": [
    "print(\"값\", Today_todo.values)\n",
    "print(\"인덱스\", Today_todo.index)"
   ]
  },
  {
   "cell_type": "code",
   "execution_count": 27,
   "metadata": {},
   "outputs": [
    {
     "name": "stdout",
     "output_type": "stream",
     "text": [
      "math      sesac\n",
      "review    check\n",
      "dtype: object\n"
     ]
    }
   ],
   "source": [
    "print(Today_todo[['math', 'review']])"
   ]
  },
  {
   "cell_type": "code",
   "execution_count": 28,
   "metadata": {},
   "outputs": [
    {
     "name": "stdout",
     "output_type": "stream",
     "text": [
      "review                    check\n",
      "machine_learning    data_diving\n",
      "dtype: object\n"
     ]
    },
    {
     "name": "stderr",
     "output_type": "stream",
     "text": [
      "C:\\Users\\user\\AppData\\Local\\Temp\\ipykernel_5476\\2804457840.py:1: FutureWarning: Series.__getitem__ treating keys as positions is deprecated. In a future version, integer keys will always be treated as labels (consistent with DataFrame behavior). To access a value by position, use `ser.iloc[pos]`\n",
      "  print(Today_todo[[1,2]])\n"
     ]
    }
   ],
   "source": [
    "print(Today_todo[[1,2]])"
   ]
  },
  {
   "cell_type": "code",
   "execution_count": 29,
   "metadata": {},
   "outputs": [
    {
     "name": "stdout",
     "output_type": "stream",
     "text": [
      "eggs     30\n",
      "bread    no\n",
      "dtype: object\n",
      "eggs     30\n",
      "bread    no\n",
      "dtype: object\n"
     ]
    },
    {
     "name": "stderr",
     "output_type": "stream",
     "text": [
      "C:\\Users\\user\\AppData\\Local\\Temp\\ipykernel_5476\\1515807650.py:2: FutureWarning: Series.__getitem__ treating keys as positions is deprecated. In a future version, integer keys will always be treated as labels (consistent with DataFrame behavior). To access a value by position, use `ser.iloc[pos]`\n",
      "  print(groceries[[0, 3]])\n"
     ]
    }
   ],
   "source": [
    "print(groceries[['eggs', 'bread']]) #시리즈는 [[대괄호두개로 복수접근]]\n",
    "print(groceries[[0, 3]])"
   ]
  },
  {
   "cell_type": "markdown",
   "metadata": {},
   "source": [
    " #loc, iloc\n",
    " ### loc (location) : str 인덱스// 레이블명 또는 별명으로 정의된 인덱스를 바탕으로 접근\n",
    " ### iloc : 정수형 인덱스(순서)를 바탕으로 접근 "
   ]
  },
  {
   "cell_type": "code",
   "execution_count": 30,
   "metadata": {},
   "outputs": [
    {
     "name": "stdout",
     "output_type": "stream",
     "text": [
      "apples      6\n",
      "milk      yes\n",
      "dtype: object\n",
      "apples      6\n",
      "milk      yes\n",
      "dtype: object\n"
     ]
    }
   ],
   "source": [
    "print(groceries.loc[['apples', 'milk']])\n",
    "print(groceries.iloc[[1, 2]])"
   ]
  },
  {
   "cell_type": "code",
   "execution_count": 31,
   "metadata": {},
   "outputs": [
    {
     "data": {
      "text/plain": [
       "eggs       30\n",
       "apples      6\n",
       "milk      yes\n",
       "bread      no\n",
       "dtype: object"
      ]
     },
     "execution_count": 31,
     "metadata": {},
     "output_type": "execute_result"
    }
   ],
   "source": [
    "groceries"
   ]
  },
  {
   "cell_type": "code",
   "execution_count": 32,
   "metadata": {},
   "outputs": [
    {
     "name": "stdout",
     "output_type": "stream",
     "text": [
      "eggs      30\n",
      "apples     6\n",
      "milk       3\n",
      "bread     no\n",
      "dtype: object\n"
     ]
    }
   ],
   "source": [
    "groceries['milk'] = 3\n",
    "print(groceries)"
   ]
  },
  {
   "cell_type": "code",
   "execution_count": 34,
   "metadata": {},
   "outputs": [
    {
     "name": "stdout",
     "output_type": "stream",
     "text": [
      "eggs      30\n",
      "apples    15\n",
      "milk       3\n",
      "bread     no\n",
      "dtype: object\n"
     ]
    }
   ],
   "source": [
    "groceries['apples'] = 15\n",
    "print(groceries)"
   ]
  },
  {
   "cell_type": "code",
   "execution_count": 35,
   "metadata": {},
   "outputs": [],
   "source": [
    "groceries.drop('bread', inplace = True)"
   ]
  },
  {
   "cell_type": "code",
   "execution_count": 36,
   "metadata": {},
   "outputs": [
    {
     "data": {
      "text/plain": [
       "eggs      30\n",
       "apples    15\n",
       "milk       3\n",
       "dtype: object"
      ]
     },
     "execution_count": 36,
     "metadata": {},
     "output_type": "execute_result"
    }
   ],
   "source": [
    "groceries"
   ]
  },
  {
   "cell_type": "code",
   "execution_count": 37,
   "metadata": {},
   "outputs": [
    {
     "data": {
      "text/plain": [
       "eggs    30\n",
       "milk     3\n",
       "dtype: object"
      ]
     },
     "execution_count": 37,
     "metadata": {},
     "output_type": "execute_result"
    }
   ],
   "source": [
    "groceries.drop('apples', inplace = True)\n",
    "groceries"
   ]
  },
  {
   "cell_type": "code",
   "execution_count": 38,
   "metadata": {},
   "outputs": [
    {
     "data": {
      "text/plain": [
       "ryu      242\n",
       "son      343\n",
       "faker    545\n",
       "dtype: int64"
      ]
     },
     "execution_count": 38,
     "metadata": {},
     "output_type": "execute_result"
    }
   ],
   "source": [
    "salary = pd.Series(index = ['ryu', 'son', 'faker'], data = [242, 343, 545])\n",
    "salary"
   ]
  },
  {
   "cell_type": "code",
   "execution_count": 41,
   "metadata": {},
   "outputs": [
    {
     "name": "stdout",
     "output_type": "stream",
     "text": [
      "ryu       484\n",
      "son       686\n",
      "faker    1090\n",
      "dtype: int64\n",
      "\n",
      "ryu      244\n",
      "son      345\n",
      "faker    547\n",
      "dtype: int64\n",
      "\n",
      "ryu      121.0\n",
      "son      171.5\n",
      "faker    272.5\n",
      "dtype: float64\n",
      "\n",
      "ryu      121\n",
      "son      171\n",
      "faker    272\n",
      "dtype: int64\n",
      "\n"
     ]
    }
   ],
   "source": [
    "print(salary * 2, end = '\\n\\n')\n",
    "print(salary + 2, end = '\\n\\n')\n",
    "print(salary / 2, end = '\\n\\n')\n",
    "print(salary // 2, end = '\\n\\n')"
   ]
  },
  {
   "cell_type": "code",
   "execution_count": 42,
   "metadata": {},
   "outputs": [
    {
     "name": "stdout",
     "output_type": "stream",
     "text": [
      "ryu      242\n",
      "son      363\n",
      "faker    545\n",
      "dtype: int64\n"
     ]
    }
   ],
   "source": [
    "salary['son'] += 20\n",
    "print(salary)"
   ]
  },
  {
   "cell_type": "code",
   "execution_count": 48,
   "metadata": {},
   "outputs": [
    {
     "data": {
      "text/plain": [
       "ryu      1742\n",
       "son       613\n",
       "faker     545\n",
       "dtype: int64"
      ]
     },
     "execution_count": 48,
     "metadata": {},
     "output_type": "execute_result"
    }
   ],
   "source": [
    "salary['son'] += 50\n",
    "salary['ryu'] += 300\n",
    "salary"
   ]
  },
  {
   "cell_type": "code",
   "execution_count": 49,
   "metadata": {},
   "outputs": [
    {
     "name": "stdout",
     "output_type": "stream",
     "text": [
      "{'alex': eggs      30\n",
      "apples     6\n",
      "dtype: int64, 'alice': milk     5\n",
      "bread    2\n",
      "dtype: int64}\n"
     ]
    }
   ],
   "source": [
    "items = {\n",
    "    'alex' : pd.Series(data = [30, 6], index = ['eggs', 'apples']),\n",
    "    'alice' : pd.Series(data = [5, 2], index = ['milk', 'bread'])\n",
    "    \n",
    "}\n",
    "print(items)"
   ]
  },
  {
   "cell_type": "code",
   "execution_count": 50,
   "metadata": {},
   "outputs": [
    {
     "data": {
      "text/plain": [
       "eggs      30\n",
       "apples     6\n",
       "dtype: int64"
      ]
     },
     "execution_count": 50,
     "metadata": {},
     "output_type": "execute_result"
    }
   ],
   "source": [
    "items['alex']"
   ]
  },
  {
   "cell_type": "code",
   "execution_count": 51,
   "metadata": {},
   "outputs": [
    {
     "data": {
      "text/html": [
       "<div>\n",
       "<style scoped>\n",
       "    .dataframe tbody tr th:only-of-type {\n",
       "        vertical-align: middle;\n",
       "    }\n",
       "\n",
       "    .dataframe tbody tr th {\n",
       "        vertical-align: top;\n",
       "    }\n",
       "\n",
       "    .dataframe thead th {\n",
       "        text-align: right;\n",
       "    }\n",
       "</style>\n",
       "<table border=\"1\" class=\"dataframe\">\n",
       "  <thead>\n",
       "    <tr style=\"text-align: right;\">\n",
       "      <th></th>\n",
       "      <th>alex</th>\n",
       "      <th>alice</th>\n",
       "    </tr>\n",
       "  </thead>\n",
       "  <tbody>\n",
       "    <tr>\n",
       "      <th>apples</th>\n",
       "      <td>6.0</td>\n",
       "      <td>NaN</td>\n",
       "    </tr>\n",
       "    <tr>\n",
       "      <th>bread</th>\n",
       "      <td>NaN</td>\n",
       "      <td>2.0</td>\n",
       "    </tr>\n",
       "    <tr>\n",
       "      <th>eggs</th>\n",
       "      <td>30.0</td>\n",
       "      <td>NaN</td>\n",
       "    </tr>\n",
       "    <tr>\n",
       "      <th>milk</th>\n",
       "      <td>NaN</td>\n",
       "      <td>5.0</td>\n",
       "    </tr>\n",
       "  </tbody>\n",
       "</table>\n",
       "</div>"
      ],
      "text/plain": [
       "        alex  alice\n",
       "apples   6.0    NaN\n",
       "bread    NaN    2.0\n",
       "eggs    30.0    NaN\n",
       "milk     NaN    5.0"
      ]
     },
     "execution_count": 51,
     "metadata": {},
     "output_type": "execute_result"
    }
   ],
   "source": [
    "items_df = pd.DataFrame(items)\n",
    "items_df"
   ]
  },
  {
   "cell_type": "code",
   "execution_count": 52,
   "metadata": {},
   "outputs": [
    {
     "name": "stdout",
     "output_type": "stream",
     "text": [
      "shape:  (4, 2)\n",
      "dimension:  2\n",
      "size:  8\n"
     ]
    }
   ],
   "source": [
    "print('shape: ', items_df.shape)\n",
    "print('dimension: ', items_df.ndim)\n",
    "print('size: ', items_df.size)"
   ]
  },
  {
   "cell_type": "code",
   "execution_count": 54,
   "metadata": {},
   "outputs": [
    {
     "name": "stdout",
     "output_type": "stream",
     "text": [
      "Index(['apples', 'bread', 'eggs', 'milk'], dtype='object')\n",
      "Index(['alex', 'alice'], dtype='object')\n"
     ]
    }
   ],
   "source": [
    "print(items_df.index) # 이 행들 이름이 뭐였더라?\n",
    "print(items_df.columns) #아 컬럼 이름들이 뭐였더라? 할 때 유용"
   ]
  },
  {
   "cell_type": "markdown",
   "metadata": {},
   "source": [
    "#데이터프레임 탐색\n",
    "## 특정 데이터 프레임 셀에 접근 \n",
    "## DF 이름뒤에 바로 대괄호를 넣으면 컬럼의 이름을 쓰면되고 (열 값 가져옴) \n",
    "## 로우값을 가져오고 싶으면 loc, iloc 를 쓰면 됨 \n",
    "## 몇번째 순서의 컬럼을 가져오고 싶다 [[0, 1]]\n",
    "## 여러 열에 접근시 [[]] 대괄호 두 개!! \n",
    "## 특정 데이터 셀! 에 접근하고싶으면 df[열][행] "
   ]
  },
  {
   "cell_type": "code",
   "execution_count": 57,
   "metadata": {},
   "outputs": [
    {
     "name": "stdout",
     "output_type": "stream",
     "text": [
      "        alex  alice\n",
      "apples   6.0    NaN\n",
      "bread    NaN    2.0\n",
      "eggs    30.0    NaN\n",
      "milk     NaN    5.0\n"
     ]
    }
   ],
   "source": [
    "alex_list = items_df['alex']\n",
    "alex_alice_list = items_df[['alex', 'alice']]\n",
    "print(alex_alice_list)"
   ]
  },
  {
   "cell_type": "code",
   "execution_count": 66,
   "metadata": {},
   "outputs": [
    {
     "name": "stdout",
     "output_type": "stream",
     "text": [
      "       alex  alice\n",
      "bread   NaN    2.0\n",
      "eggs   30.0    NaN\n"
     ]
    }
   ],
   "source": [
    "#계란을 누가, 몇 개 사갔니? # 행의 정보를 가져오고싶은거잖아?  행을 가져올땐 loc, iloc\n",
    "about_egg = items_df.loc[['bread','eggs']] # 가져오고싶은 행을 써주면돼\n",
    "print(about_egg)"
   ]
  },
  {
   "cell_type": "code",
   "execution_count": 69,
   "metadata": {},
   "outputs": [
    {
     "name": "stdout",
     "output_type": "stream",
     "text": [
      "        alex  alice\n",
      "apples   6.0    NaN\n",
      "eggs    30.0    NaN\n"
     ]
    }
   ],
   "source": [
    "about_egg = items_df.iloc[[0, 2]] #순서로 가져올 때 \n",
    "print(about_egg)"
   ]
  },
  {
   "cell_type": "code",
   "execution_count": 72,
   "metadata": {},
   "outputs": [
    {
     "name": "stdout",
     "output_type": "stream",
     "text": [
      "30.0\n"
     ]
    }
   ],
   "source": [
    "#구체적으로, 딱 하나의 데이터만 가져오고 싶다면? alice 가 egg를 몇 개 샀니? \n",
    "\n",
    "alice_egg = items_df['alex']['eggs'] #df[열][행]\n",
    "print(alice_egg)\n"
   ]
  },
  {
   "cell_type": "code",
   "execution_count": 74,
   "metadata": {},
   "outputs": [
    {
     "name": "stdout",
     "output_type": "stream",
     "text": [
      "alex     NaN\n",
      "alice    2.0\n",
      "Name: bread, dtype: float64\n"
     ]
    }
   ],
   "source": [
    "about_bread = items_df.loc['bread'] #뭘써야할까 이름뒤에 바로 대괄호를 넣으면 컬럼의 이름을 쓰면되고 \n",
    "print(about_bread) # 로우값을 가져오고 싶으면 loc, iloc 를 쓰면 됨 "
   ]
  },
  {
   "cell_type": "code",
   "execution_count": 76,
   "metadata": {},
   "outputs": [
    {
     "name": "stdout",
     "output_type": "stream",
     "text": [
      "5.0\n"
     ]
    }
   ],
   "source": [
    "# alice 가 milk 몇 개?\n",
    "alice_milk = items_df['alice']['milk'] #처음엔 [열지정][행지정]\n",
    "print(alice_milk)"
   ]
  },
  {
   "cell_type": "code",
   "execution_count": null,
   "metadata": {},
   "outputs": [],
   "source": []
  }
 ],
 "metadata": {
  "kernelspec": {
   "display_name": "Python 3",
   "language": "python",
   "name": "python3"
  },
  "language_info": {
   "codemirror_mode": {
    "name": "ipython",
    "version": 3
   },
   "file_extension": ".py",
   "mimetype": "text/x-python",
   "name": "python",
   "nbconvert_exporter": "python",
   "pygments_lexer": "ipython3",
   "version": "3.11.9"
  }
 },
 "nbformat": 4,
 "nbformat_minor": 2
}
