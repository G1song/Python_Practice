{
 "cells": [
  {
   "cell_type": "code",
   "execution_count": 2,
   "metadata": {},
   "outputs": [],
   "source": [
    "import numpy as np\n",
    "import matplotlib.pyplot as plt"
   ]
  },
  {
   "cell_type": "code",
   "execution_count": 3,
   "metadata": {},
   "outputs": [
    {
     "name": "stdout",
     "output_type": "stream",
     "text": [
      "Matrix A = \n",
      " [[ 2  3  4]\n",
      " [10 20 30]]\n",
      "Shape of A =  (2, 3)\n",
      "Dtype of A =  int64\n",
      "Matrix B = \n",
      " [[ 2.  3.  4.]\n",
      " [10. 20. 30.]]\n",
      "Shape of B =  (2, 3)\n",
      "Dtype of B =  float32\n",
      "2.0.0\n"
     ]
    }
   ],
   "source": [
    "A = np.array([[2, 3, 4],\n",
    "              [10, 20, 30]])\n",
    "\n",
    "B = np.array([[2, 3, 4],\n",
    "              [10, 20, 30]], dtype = np.float32)\n",
    "#모든 matrix 는 float 으로 잡음. 계산된 결과가 정수이기가 힘들기 때문에\n",
    "#값이 저장이 안됨. \n",
    "\n",
    "print(\"Matrix A = \\n\", A)\n",
    "print(\"Shape of A = \", A.shape)\n",
    "print(\"Dtype of A = \", A.dtype)\n",
    "\n",
    "print(\"Matrix B = \\n\", B)\n",
    "print(\"Shape of B = \", B.shape)\n",
    "print(\"Dtype of B = \", B.dtype)\n",
    "\n",
    "print(np.__version__)"
   ]
  },
  {
   "cell_type": "code",
   "execution_count": 5,
   "metadata": {},
   "outputs": [
    {
     "name": "stdout",
     "output_type": "stream",
     "text": [
      "D_1 = \n",
      " [[1 0 0 0 0]\n",
      " [0 2 0 0 0]\n",
      " [0 0 3 0 0]\n",
      " [0 0 0 4 0]\n",
      " [0 0 0 0 5]]\n",
      "D_2 = \n",
      " [[3 0 0 0 0]\n",
      " [0 8 0 0 0]\n",
      " [0 0 3 0 0]\n",
      " [0 0 0 1 0]\n",
      " [0 0 0 0 6]]\n"
     ]
    }
   ],
   "source": [
    "# Diagonal Matrix\n",
    "\n",
    "a = np.array([1,2,3,4,5])\n",
    "D_1 = np.diag(a)\n",
    "print(\"D_1 = \\n\", D_1)\n",
    "\n",
    "b = np.random.randint(1,10,5)\n",
    "D_2 = np.diag(b)\n",
    "print(\"D_2 = \\n\", D_2)"
   ]
  },
  {
   "cell_type": "code",
   "execution_count": 6,
   "metadata": {},
   "outputs": [
    {
     "name": "stdout",
     "output_type": "stream",
     "text": [
      "3 x 3 Identity = \n",
      " [[1. 0. 0.]\n",
      " [0. 1. 0.]\n",
      " [0. 0. 1.]]\n",
      "5 x 5 Identity = \n",
      " [[1. 0. 0. 0. 0.]\n",
      " [0. 1. 0. 0. 0.]\n",
      " [0. 0. 1. 0. 0.]\n",
      " [0. 0. 0. 1. 0.]\n",
      " [0. 0. 0. 0. 1.]]\n"
     ]
    }
   ],
   "source": [
    "# Identitiy 단위행렬\n",
    "\n",
    "I_3 = np.eye(3)\n",
    "print(\"3 x 3 Identity = \\n\", I_3)\n",
    "\n",
    "\n",
    "I_5 = np.eye(5)\n",
    "print(\"5 x 5 Identity = \\n\", I_5)\n"
   ]
  },
  {
   "cell_type": "code",
   "execution_count": 7,
   "metadata": {},
   "outputs": [
    {
     "name": "stdout",
     "output_type": "stream",
     "text": [
      "A = \n",
      " [[1 2 3 4]\n",
      " [5 6 7 8]]\n",
      "transpose A = \n",
      " [[1 5]\n",
      " [2 6]\n",
      " [3 7]\n",
      " [4 8]]\n"
     ]
    }
   ],
   "source": [
    "##전치 행렬, Matrix Transpose \n",
    "A = np.array([[1,2,3,4],\n",
    "              [5,6,7,8]], dtype = np.int64)\n",
    "\n",
    "print(\"A = \\n\", A)\n",
    "print(\"transpose A = \\n\", A.T) "
   ]
  }
 ],
 "metadata": {
  "kernelspec": {
   "display_name": "Python 3",
   "language": "python",
   "name": "python3"
  },
  "language_info": {
   "codemirror_mode": {
    "name": "ipython",
    "version": 3
   },
   "file_extension": ".py",
   "mimetype": "text/x-python",
   "name": "python",
   "nbconvert_exporter": "python",
   "pygments_lexer": "ipython3",
   "version": "3.11.9"
  }
 },
 "nbformat": 4,
 "nbformat_minor": 2
}
